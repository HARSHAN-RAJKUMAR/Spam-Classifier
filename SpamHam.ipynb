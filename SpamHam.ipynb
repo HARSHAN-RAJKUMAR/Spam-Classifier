{
 "cells": [
  {
   "cell_type": "markdown",
   "id": "abe22387-79bd-4da9-8e7e-20e5142c70b2",
   "metadata": {},
   "source": [
    "## Emails - Spam Classifier Model"
   ]
  },
  {
   "cell_type": "markdown",
   "id": "fca6fe22-c1df-4af7-8600-24d32e2d2fc5",
   "metadata": {},
   "source": [
    "ACCURACY 95%"
   ]
  },
  {
   "cell_type": "raw",
   "id": "d88d5e11-c91b-4a2e-ab9e-740e5b4c3a1d",
   "metadata": {},
   "source": [
    "1. Importing Libraries and Data: Begin by importing the necessary libraries and the dataset that contains emails.\r",
    "2. \n",
    "Vectorizing the Data: Convert the text data into a matrix format suitable for classification. This is usually done using techniques like TF-IDF or Count Vectorizer\n",
    "3. \r\n",
    "Training the Classifier: Train a Naive Bayes classifier using the vectorized data. Naive Bayes is commonly used for text classification tasks such as spam detection4. .\r\n",
    "Predicting ew Emails: Test the model by predicting whether the first five emails in your dataset are spam or not (often referred to as \"ham\" for non-spam emails)."
   ]
  },
  {
   "cell_type": "code",
   "execution_count": 11,
   "id": "893d54ca-757e-480a-bf8e-5ae6f3ff5154",
   "metadata": {},
   "outputs": [],
   "source": [
    "import os\n",
    "import pandas as pd\n",
    "\n",
    "def read_files(path, classification):\n",
    "    data = []  # Initialize an empty list to store the data\n",
    "    for root, _, filenames in os.walk(path):  # Walk through the directory structure\n",
    "        for filename in filenames:  # Iterate over each file in the directory\n",
    "            # Open and read the content of each file\n",
    "            with open(os.path.join(root, filename), 'r', encoding='latin1') as file:\n",
    "                content = file.read().split('\\n\\n', 1)[1]  # Skip headers and read the email body\n",
    "                data.append({'message': content, 'class': classification})  # Append the message and its class to the list\n",
    "    return pd.DataFrame(data)  # Convert the list of dictionaries to a pandas DataFrame\n",
    "\n",
    "# Initialize an empty DataFrame to store emails\n",
    "data = pd.DataFrame(columns=['message', 'class'])\n",
    "# Read spam and ham emails and concatenate them into the DataFrame\n",
    "data = pd.concat([\n",
    "    data,\n",
    "    read_files(\"emails/spam\", \"spam\"),\n",
    "    read_files(\"emails/ham\", \"ham\")\n",
    "], ignore_index=True)  # Concatenate all data and reindex the DataFrame\n"
   ]
  },
  {
   "cell_type": "code",
   "execution_count": 12,
   "id": "9ec5ac46-a090-4f3e-af66-1dd5c8a27f53",
   "metadata": {},
   "outputs": [
    {
     "data": {
      "text/html": [
       "<div>\n",
       "<style scoped>\n",
       "    .dataframe tbody tr th:only-of-type {\n",
       "        vertical-align: middle;\n",
       "    }\n",
       "\n",
       "    .dataframe tbody tr th {\n",
       "        vertical-align: top;\n",
       "    }\n",
       "\n",
       "    .dataframe thead th {\n",
       "        text-align: right;\n",
       "    }\n",
       "</style>\n",
       "<table border=\"1\" class=\"dataframe\">\n",
       "  <thead>\n",
       "    <tr style=\"text-align: right;\">\n",
       "      <th></th>\n",
       "      <th>message</th>\n",
       "      <th>class</th>\n",
       "    </tr>\n",
       "  </thead>\n",
       "  <tbody>\n",
       "    <tr>\n",
       "      <th>0</th>\n",
       "      <td>&lt;!DOCTYPE HTML PUBLIC \"-//W3C//DTD HTML 4.0 Tr...</td>\n",
       "      <td>spam</td>\n",
       "    </tr>\n",
       "    <tr>\n",
       "      <th>1</th>\n",
       "      <td>1) Fight The Risk of Cancer!\\nhttp://www.adcli...</td>\n",
       "      <td>spam</td>\n",
       "    </tr>\n",
       "    <tr>\n",
       "      <th>2</th>\n",
       "      <td>1) Fight The Risk of Cancer!\\nhttp://www.adcli...</td>\n",
       "      <td>spam</td>\n",
       "    </tr>\n",
       "    <tr>\n",
       "      <th>3</th>\n",
       "      <td>##############################################...</td>\n",
       "      <td>spam</td>\n",
       "    </tr>\n",
       "    <tr>\n",
       "      <th>4</th>\n",
       "      <td>I thought you might like these:\\n1) Slim Down ...</td>\n",
       "      <td>spam</td>\n",
       "    </tr>\n",
       "  </tbody>\n",
       "</table>\n",
       "</div>"
      ],
      "text/plain": [
       "                                             message class\n",
       "0  <!DOCTYPE HTML PUBLIC \"-//W3C//DTD HTML 4.0 Tr...  spam\n",
       "1  1) Fight The Risk of Cancer!\\nhttp://www.adcli...  spam\n",
       "2  1) Fight The Risk of Cancer!\\nhttp://www.adcli...  spam\n",
       "3  ##############################################...  spam\n",
       "4  I thought you might like these:\\n1) Slim Down ...  spam"
      ]
     },
     "execution_count": 12,
     "metadata": {},
     "output_type": "execute_result"
    }
   ],
   "source": [
    "data.head()"
   ]
  },
  {
   "cell_type": "markdown",
   "id": "e133f337-58ac-4f10-9eb0-062a0b78ed77",
   "metadata": {},
   "source": [
    "##  Building and Training a Spam Classifier with Naive Bayes"
   ]
  },
  {
   "cell_type": "code",
   "execution_count": 13,
   "id": "2837faa9-fead-4236-ace3-fc1441cb0e7c",
   "metadata": {},
   "outputs": [
    {
     "data": {
      "text/html": [
       "<style>#sk-container-id-4 {color: black;}#sk-container-id-4 pre{padding: 0;}#sk-container-id-4 div.sk-toggleable {background-color: white;}#sk-container-id-4 label.sk-toggleable__label {cursor: pointer;display: block;width: 100%;margin-bottom: 0;padding: 0.3em;box-sizing: border-box;text-align: center;}#sk-container-id-4 label.sk-toggleable__label-arrow:before {content: \"▸\";float: left;margin-right: 0.25em;color: #696969;}#sk-container-id-4 label.sk-toggleable__label-arrow:hover:before {color: black;}#sk-container-id-4 div.sk-estimator:hover label.sk-toggleable__label-arrow:before {color: black;}#sk-container-id-4 div.sk-toggleable__content {max-height: 0;max-width: 0;overflow: hidden;text-align: left;background-color: #f0f8ff;}#sk-container-id-4 div.sk-toggleable__content pre {margin: 0.2em;color: black;border-radius: 0.25em;background-color: #f0f8ff;}#sk-container-id-4 input.sk-toggleable__control:checked~div.sk-toggleable__content {max-height: 200px;max-width: 100%;overflow: auto;}#sk-container-id-4 input.sk-toggleable__control:checked~label.sk-toggleable__label-arrow:before {content: \"▾\";}#sk-container-id-4 div.sk-estimator input.sk-toggleable__control:checked~label.sk-toggleable__label {background-color: #d4ebff;}#sk-container-id-4 div.sk-label input.sk-toggleable__control:checked~label.sk-toggleable__label {background-color: #d4ebff;}#sk-container-id-4 input.sk-hidden--visually {border: 0;clip: rect(1px 1px 1px 1px);clip: rect(1px, 1px, 1px, 1px);height: 1px;margin: -1px;overflow: hidden;padding: 0;position: absolute;width: 1px;}#sk-container-id-4 div.sk-estimator {font-family: monospace;background-color: #f0f8ff;border: 1px dotted black;border-radius: 0.25em;box-sizing: border-box;margin-bottom: 0.5em;}#sk-container-id-4 div.sk-estimator:hover {background-color: #d4ebff;}#sk-container-id-4 div.sk-parallel-item::after {content: \"\";width: 100%;border-bottom: 1px solid gray;flex-grow: 1;}#sk-container-id-4 div.sk-label:hover label.sk-toggleable__label {background-color: #d4ebff;}#sk-container-id-4 div.sk-serial::before {content: \"\";position: absolute;border-left: 1px solid gray;box-sizing: border-box;top: 0;bottom: 0;left: 50%;z-index: 0;}#sk-container-id-4 div.sk-serial {display: flex;flex-direction: column;align-items: center;background-color: white;padding-right: 0.2em;padding-left: 0.2em;position: relative;}#sk-container-id-4 div.sk-item {position: relative;z-index: 1;}#sk-container-id-4 div.sk-parallel {display: flex;align-items: stretch;justify-content: center;background-color: white;position: relative;}#sk-container-id-4 div.sk-item::before, #sk-container-id-4 div.sk-parallel-item::before {content: \"\";position: absolute;border-left: 1px solid gray;box-sizing: border-box;top: 0;bottom: 0;left: 50%;z-index: -1;}#sk-container-id-4 div.sk-parallel-item {display: flex;flex-direction: column;z-index: 1;position: relative;background-color: white;}#sk-container-id-4 div.sk-parallel-item:first-child::after {align-self: flex-end;width: 50%;}#sk-container-id-4 div.sk-parallel-item:last-child::after {align-self: flex-start;width: 50%;}#sk-container-id-4 div.sk-parallel-item:only-child::after {width: 0;}#sk-container-id-4 div.sk-dashed-wrapped {border: 1px dashed gray;margin: 0 0.4em 0.5em 0.4em;box-sizing: border-box;padding-bottom: 0.4em;background-color: white;}#sk-container-id-4 div.sk-label label {font-family: monospace;font-weight: bold;display: inline-block;line-height: 1.2em;}#sk-container-id-4 div.sk-label-container {text-align: center;}#sk-container-id-4 div.sk-container {/* jupyter's `normalize.less` sets `[hidden] { display: none; }` but bootstrap.min.css set `[hidden] { display: none !important; }` so we also need the `!important` here to be able to override the default hidden behavior on the sphinx rendered scikit-learn.org. See: https://github.com/scikit-learn/scikit-learn/issues/21755 */display: inline-block !important;position: relative;}#sk-container-id-4 div.sk-text-repr-fallback {display: none;}</style><div id=\"sk-container-id-4\" class=\"sk-top-container\"><div class=\"sk-text-repr-fallback\"><pre>MultinomialNB()</pre><b>In a Jupyter environment, please rerun this cell to show the HTML representation or trust the notebook. <br />On GitHub, the HTML representation is unable to render, please try loading this page with nbviewer.org.</b></div><div class=\"sk-container\" hidden><div class=\"sk-item\"><div class=\"sk-estimator sk-toggleable\"><input class=\"sk-toggleable__control sk-hidden--visually\" id=\"sk-estimator-id-4\" type=\"checkbox\" checked><label for=\"sk-estimator-id-4\" class=\"sk-toggleable__label sk-toggleable__label-arrow\">MultinomialNB</label><div class=\"sk-toggleable__content\"><pre>MultinomialNB()</pre></div></div></div></div></div>"
      ],
      "text/plain": [
       "MultinomialNB()"
      ]
     },
     "execution_count": 13,
     "metadata": {},
     "output_type": "execute_result"
    }
   ],
   "source": [
    "from sklearn.feature_extraction.text import CountVectorizer\n",
    "from sklearn.naive_bayes import MultinomialNB\n",
    "\n",
    "# Step 1: Vectorize the text data\n",
    "# The CountVectorizer converts the text data into a format that is suitable for model training.\n",
    "vectorizer = CountVectorizer()\n",
    "counts = vectorizer.fit_transform(data['message'].values)  # Transform the text data to a numeric format\n",
    "\n",
    "# Step 2: Create and train the Naive Bayes classifier\n",
    "# Multinomial Naive Bayes is well-suited for classification with discrete features (e.g., word counts).\n",
    "classifier = MultinomialNB()\n",
    "targets = data['class'].values  # The target variable (spam or ham)\n",
    "classifier.fit(counts, targets)  # Train the classifier on the vectorized data\n"
   ]
  },
  {
   "cell_type": "code",
   "execution_count": 14,
   "id": "d4a9365c-9574-4c5b-ad08-1907b8d33657",
   "metadata": {},
   "outputs": [
    {
     "name": "stdout",
     "output_type": "stream",
     "text": [
      "Email: <!DOCTYPE HTML PUBLIC \"-//W3C//DTD HTML 4.0 Transitional//EN ...\n",
      "Predicted Class: spam \n",
      "\n",
      "Email: 1) Fight The Risk of Cancer!\n",
      "http://www.adclick.ws/p.cfm?o=3 ...\n",
      "Predicted Class: spam \n",
      "\n",
      "Email: 1) Fight The Risk of Cancer!\n",
      "http://www.adclick.ws/p.cfm?o=3 ...\n",
      "Predicted Class: spam \n",
      "\n",
      "Email: ##################################################\n",
      "#         ...\n",
      "Predicted Class: spam \n",
      "\n",
      "Email: I thought you might like these:\n",
      "1) Slim Down - Guaranteed to ...\n",
      "Predicted Class: spam \n",
      "\n"
     ]
    }
   ],
   "source": [
    "# Step 3: Predicting the classification of the first 5 emails\n",
    "sample_data = data['message'].values[:5]  # Extract the first five email messages from the dataset\n",
    "sample_counts = vectorizer.transform(sample_data)  # Convert these emails to the same numeric format as the training data\n",
    "predictions = classifier.predict(sample_counts)  # Use the classifier to predict the class for each of the sample emails\n",
    "\n",
    "# Print the predictions along with parts of the emails\n",
    "for email, prediction in zip(sample_data, predictions):\n",
    "    print(\"Email:\", email[:60], \"...\")  # Display the first 60 characters of each email\n",
    "    print(\"Predicted Class:\", prediction, \"\\n\")  # Show the predicted classification (spam or ham)\n"
   ]
  },
  {
   "cell_type": "markdown",
   "id": "87e87a57-4a9f-46cb-af9d-080e18c8df20",
   "metadata": {},
   "source": [
    "##  Building and Training a Spam Classifier with Logical Regression "
   ]
  },
  {
   "cell_type": "code",
   "execution_count": 15,
   "id": "352e1688-4639-4154-8ed5-102333785815",
   "metadata": {},
   "outputs": [
    {
     "name": "stderr",
     "output_type": "stream",
     "text": [
      "C:\\Users\\Harshan\\.conda\\envs\\dataanalytics\\lib\\site-packages\\sklearn\\linear_model\\_logistic.py:460: ConvergenceWarning: lbfgs failed to converge (status=1):\n",
      "STOP: TOTAL NO. of ITERATIONS REACHED LIMIT.\n",
      "\n",
      "Increase the number of iterations (max_iter) or scale the data as shown in:\n",
      "    https://scikit-learn.org/stable/modules/preprocessing.html\n",
      "Please also refer to the documentation for alternative solver options:\n",
      "    https://scikit-learn.org/stable/modules/linear_model.html#logistic-regression\n",
      "  n_iter_i = _check_optimize_result(\n"
     ]
    },
    {
     "data": {
      "text/html": [
       "<style>#sk-container-id-5 {color: black;}#sk-container-id-5 pre{padding: 0;}#sk-container-id-5 div.sk-toggleable {background-color: white;}#sk-container-id-5 label.sk-toggleable__label {cursor: pointer;display: block;width: 100%;margin-bottom: 0;padding: 0.3em;box-sizing: border-box;text-align: center;}#sk-container-id-5 label.sk-toggleable__label-arrow:before {content: \"▸\";float: left;margin-right: 0.25em;color: #696969;}#sk-container-id-5 label.sk-toggleable__label-arrow:hover:before {color: black;}#sk-container-id-5 div.sk-estimator:hover label.sk-toggleable__label-arrow:before {color: black;}#sk-container-id-5 div.sk-toggleable__content {max-height: 0;max-width: 0;overflow: hidden;text-align: left;background-color: #f0f8ff;}#sk-container-id-5 div.sk-toggleable__content pre {margin: 0.2em;color: black;border-radius: 0.25em;background-color: #f0f8ff;}#sk-container-id-5 input.sk-toggleable__control:checked~div.sk-toggleable__content {max-height: 200px;max-width: 100%;overflow: auto;}#sk-container-id-5 input.sk-toggleable__control:checked~label.sk-toggleable__label-arrow:before {content: \"▾\";}#sk-container-id-5 div.sk-estimator input.sk-toggleable__control:checked~label.sk-toggleable__label {background-color: #d4ebff;}#sk-container-id-5 div.sk-label input.sk-toggleable__control:checked~label.sk-toggleable__label {background-color: #d4ebff;}#sk-container-id-5 input.sk-hidden--visually {border: 0;clip: rect(1px 1px 1px 1px);clip: rect(1px, 1px, 1px, 1px);height: 1px;margin: -1px;overflow: hidden;padding: 0;position: absolute;width: 1px;}#sk-container-id-5 div.sk-estimator {font-family: monospace;background-color: #f0f8ff;border: 1px dotted black;border-radius: 0.25em;box-sizing: border-box;margin-bottom: 0.5em;}#sk-container-id-5 div.sk-estimator:hover {background-color: #d4ebff;}#sk-container-id-5 div.sk-parallel-item::after {content: \"\";width: 100%;border-bottom: 1px solid gray;flex-grow: 1;}#sk-container-id-5 div.sk-label:hover label.sk-toggleable__label {background-color: #d4ebff;}#sk-container-id-5 div.sk-serial::before {content: \"\";position: absolute;border-left: 1px solid gray;box-sizing: border-box;top: 0;bottom: 0;left: 50%;z-index: 0;}#sk-container-id-5 div.sk-serial {display: flex;flex-direction: column;align-items: center;background-color: white;padding-right: 0.2em;padding-left: 0.2em;position: relative;}#sk-container-id-5 div.sk-item {position: relative;z-index: 1;}#sk-container-id-5 div.sk-parallel {display: flex;align-items: stretch;justify-content: center;background-color: white;position: relative;}#sk-container-id-5 div.sk-item::before, #sk-container-id-5 div.sk-parallel-item::before {content: \"\";position: absolute;border-left: 1px solid gray;box-sizing: border-box;top: 0;bottom: 0;left: 50%;z-index: -1;}#sk-container-id-5 div.sk-parallel-item {display: flex;flex-direction: column;z-index: 1;position: relative;background-color: white;}#sk-container-id-5 div.sk-parallel-item:first-child::after {align-self: flex-end;width: 50%;}#sk-container-id-5 div.sk-parallel-item:last-child::after {align-self: flex-start;width: 50%;}#sk-container-id-5 div.sk-parallel-item:only-child::after {width: 0;}#sk-container-id-5 div.sk-dashed-wrapped {border: 1px dashed gray;margin: 0 0.4em 0.5em 0.4em;box-sizing: border-box;padding-bottom: 0.4em;background-color: white;}#sk-container-id-5 div.sk-label label {font-family: monospace;font-weight: bold;display: inline-block;line-height: 1.2em;}#sk-container-id-5 div.sk-label-container {text-align: center;}#sk-container-id-5 div.sk-container {/* jupyter's `normalize.less` sets `[hidden] { display: none; }` but bootstrap.min.css set `[hidden] { display: none !important; }` so we also need the `!important` here to be able to override the default hidden behavior on the sphinx rendered scikit-learn.org. See: https://github.com/scikit-learn/scikit-learn/issues/21755 */display: inline-block !important;position: relative;}#sk-container-id-5 div.sk-text-repr-fallback {display: none;}</style><div id=\"sk-container-id-5\" class=\"sk-top-container\"><div class=\"sk-text-repr-fallback\"><pre>LogisticRegression()</pre><b>In a Jupyter environment, please rerun this cell to show the HTML representation or trust the notebook. <br />On GitHub, the HTML representation is unable to render, please try loading this page with nbviewer.org.</b></div><div class=\"sk-container\" hidden><div class=\"sk-item\"><div class=\"sk-estimator sk-toggleable\"><input class=\"sk-toggleable__control sk-hidden--visually\" id=\"sk-estimator-id-5\" type=\"checkbox\" checked><label for=\"sk-estimator-id-5\" class=\"sk-toggleable__label sk-toggleable__label-arrow\">LogisticRegression</label><div class=\"sk-toggleable__content\"><pre>LogisticRegression()</pre></div></div></div></div></div>"
      ],
      "text/plain": [
       "LogisticRegression()"
      ]
     },
     "execution_count": 15,
     "metadata": {},
     "output_type": "execute_result"
    }
   ],
   "source": [
    "from sklearn.linear_model import LogisticRegression\n",
    "\n",
    "# Step 1: Create and train the Logistic Regression classifier\n",
    "# Logistic Regression is a statistical model that estimates probabilities using a logistic function.\n",
    "classifier = LogisticRegression()\n",
    "classifier.fit(counts, targets)  # Train the classifier on the vectorized data and the corresponding labels\n"
   ]
  },
  {
   "cell_type": "code",
   "execution_count": 16,
   "id": "445ac260-aca0-4d73-b1d6-d327e8bfa0e0",
   "metadata": {},
   "outputs": [
    {
     "name": "stdout",
     "output_type": "stream",
     "text": [
      "Email: <!DOCTYPE HTML PUBLIC \"-//W3C//DTD HTML 4.0 Transitional//EN ...\n",
      "Predicted Class: spam \n",
      "\n",
      "Email: 1) Fight The Risk of Cancer!\n",
      "http://www.adclick.ws/p.cfm?o=3 ...\n",
      "Predicted Class: spam \n",
      "\n",
      "Email: 1) Fight The Risk of Cancer!\n",
      "http://www.adclick.ws/p.cfm?o=3 ...\n",
      "Predicted Class: spam \n",
      "\n",
      "Email: ##################################################\n",
      "#         ...\n",
      "Predicted Class: spam \n",
      "\n",
      "Email: I thought you might like these:\n",
      "1) Slim Down - Guaranteed to ...\n",
      "Predicted Class: spam \n",
      "\n"
     ]
    }
   ],
   "source": [
    "# Step 2: Select and vectorize the first 5 emails from the dataset\n",
    "sample_emails = data['message'].values[:5]  # Extract the first five email messages\n",
    "sample_counts = vectorizer.transform(sample_emails)  # Convert the emails to a numeric format using the pre-trained vectorizer\n",
    "\n",
    "# Step 3: Use the trained classifier to make predictions\n",
    "predictions = classifier.predict(sample_counts)  # Predict the class for each of the vectorized emails\n",
    "\n",
    "# Step 4: Print the predictions with part of the email text\n",
    "for email, prediction in zip(sample_emails, predictions):\n",
    "    print(\"Email:\", email[:60], \"...\")  # Display the first 60 characters of each email for context\n",
    "    print(\"Predicted Class:\", prediction, \"\\n\")  # Show the predicted classification (spam or ham)\n"
   ]
  },
  {
   "cell_type": "markdown",
   "id": "520b9941-7607-4097-b8ac-b3253582a1a8",
   "metadata": {},
   "source": [
    "##  Accuracy Score - Spam Classifier Training and Evaluation"
   ]
  },
  {
   "cell_type": "code",
   "execution_count": 17,
   "id": "acbc72bd-4ab4-48a9-8aba-d4a01aa22b70",
   "metadata": {},
   "outputs": [
    {
     "name": "stdout",
     "output_type": "stream",
     "text": [
      "Accuracy: 0.95\n"
     ]
    }
   ],
   "source": [
    "from sklearn.model_selection import train_test_split\n",
    "from sklearn.feature_extraction.text import CountVectorizer\n",
    "from sklearn.naive_bayes import MultinomialNB\n",
    "from sklearn.metrics import accuracy_score\n",
    "\n",
    "# Step 1: Split the dataset into training and testing sets\n",
    "X_train, X_test, y_train, y_test = train_test_split(data['message'], data['class'], test_size=0.2, random_state=42)\n",
    "\n",
    "# Step 2: Vectorize the text data\n",
    "vectorizer = CountVectorizer()\n",
    "X_train_counts = vectorizer.fit_transform(X_train)  # Learn the vocabulary and convert training text data to matrix\n",
    "\n",
    "# Step 3: Create and train the Naive Bayes classifier\n",
    "classifier = MultinomialNB()\n",
    "classifier.fit(X_train_counts, y_train)  # Fit the classifier on the training set\n",
    "\n",
    "# Step 4: Vectorize the test data and predict\n",
    "X_test_counts = vectorizer.transform(X_test)  # Convert test text data to matrix using the same vectorizer\n",
    "predictions = classifier.predict(X_test_counts)  # Predict the class for the test data\n",
    "\n",
    "# Step 5: Calculate and print the accuracy\n",
    "accuracy = accuracy_score(y_test, predictions)  # Calculate the accuracy of the classifier\n",
    "print(\"Accuracy:\", accuracy)\n"
   ]
  },
  {
   "cell_type": "raw",
   "id": "8924311b-592f-47b0-b059-9b0a5449f70a",
   "metadata": {},
   "source": [
    "An accuracy score of 0.95, or 95%, indicates that the Naive Bayes classifier you've trained to distinguish between spam and ham (non-spam) emails performs exceptionally well on the test dataset. This high accuracy means that 95% of the time, the classifier correctly identifies an email as either spam or ham based on the data it was trained on.\n",
    "\n",
    "Conclusion:\n",
    "High Effectiveness: The classifier's high accuracy suggests that it effectively captures the patterns and characteristics of spam and ham emails in the dataset. This makes it a reliable tool for filtering spam in practical settings, assuming the test conditions and data distribution closely mimic real-world scenarios.\n",
    "Generalization Ability: A 95% accuracy also implies good generalization from the training data to unseen data (the test set), indicating that the model is not just memorizing the training examples but learning generalizable rules.\n",
    "Future Considerations:\n",
    "Data Representation: While the results are promising, it's crucial to ensure that the vectorization process (using CountVectorizer in this case) adequately captures all relevant features of the emails. Exploring other vectorization techniques like TF-IDF might further enhance the model's performance.\n",
    "Model Robustness: Testing the model on a more diverse set of data or in different deployment scenarios can help validate its robustness and adaptability.\n",
    "Error Analysis: Despite high accuracy, focusing on the 5% of cases where the model fails could provide insights into potential improvements, such as tweaking the model or adding more nuanced features.\n",
    "Overall, the classifier’s performance is commendable, but ongoing evaluation and updates are recommended to maintain its effectiveness, especially as spam tactics evolve.\n"
   ]
  }
 ],
 "metadata": {
  "kernelspec": {
   "display_name": "Python 3 (ipykernel)",
   "language": "python",
   "name": "python3"
  },
  "language_info": {
   "codemirror_mode": {
    "name": "ipython",
    "version": 3
   },
   "file_extension": ".py",
   "mimetype": "text/x-python",
   "name": "python",
   "nbconvert_exporter": "python",
   "pygments_lexer": "ipython3",
   "version": "3.8.18"
  }
 },
 "nbformat": 4,
 "nbformat_minor": 5
}
